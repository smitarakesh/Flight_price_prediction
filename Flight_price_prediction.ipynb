{
 "cells": [
  {
   "cell_type": "markdown",
   "id": "3db50154",
   "metadata": {},
   "source": [
    "## Flight Price Prediction"
   ]
  },
  {
   "cell_type": "code",
   "execution_count": 357,
   "id": "291305d0",
   "metadata": {},
   "outputs": [],
   "source": [
    "# Importing Laibraries\n",
    "import numpy as np\n",
    "import pandas as pd\n",
    "import matplotlib.pyplot as plt\n",
    "import seaborn as sns\n",
    "import warnings\n",
    "warnings.filterwarnings('ignore')\n",
    "sns.set()"
   ]
  },
  {
   "cell_type": "code",
   "execution_count": 358,
   "id": "4dde6212",
   "metadata": {},
   "outputs": [
    {
     "data": {
      "text/html": [
       "<div>\n",
       "<style scoped>\n",
       "    .dataframe tbody tr th:only-of-type {\n",
       "        vertical-align: middle;\n",
       "    }\n",
       "\n",
       "    .dataframe tbody tr th {\n",
       "        vertical-align: top;\n",
       "    }\n",
       "\n",
       "    .dataframe thead th {\n",
       "        text-align: right;\n",
       "    }\n",
       "</style>\n",
       "<table border=\"1\" class=\"dataframe\">\n",
       "  <thead>\n",
       "    <tr style=\"text-align: right;\">\n",
       "      <th></th>\n",
       "      <th>Airline</th>\n",
       "      <th>Source</th>\n",
       "      <th>Destination</th>\n",
       "      <th>Duration</th>\n",
       "      <th>Total stops</th>\n",
       "      <th>Price</th>\n",
       "      <th>Date</th>\n",
       "    </tr>\n",
       "  </thead>\n",
       "  <tbody>\n",
       "    <tr>\n",
       "      <th>0</th>\n",
       "      <td>IndiGo</td>\n",
       "      <td>pune</td>\n",
       "      <td>chennai</td>\n",
       "      <td>1h 45m</td>\n",
       "      <td>nonstop</td>\n",
       "      <td>451Â SAR</td>\n",
       "      <td>2022-06-05</td>\n",
       "    </tr>\n",
       "    <tr>\n",
       "      <th>1</th>\n",
       "      <td>IndiGo</td>\n",
       "      <td>pune</td>\n",
       "      <td>chennai</td>\n",
       "      <td>1h 45m</td>\n",
       "      <td>nonstop</td>\n",
       "      <td>375Â SAR</td>\n",
       "      <td>2022-06-05</td>\n",
       "    </tr>\n",
       "    <tr>\n",
       "      <th>2</th>\n",
       "      <td>IndiGo</td>\n",
       "      <td>pune</td>\n",
       "      <td>chennai</td>\n",
       "      <td>1h 40m</td>\n",
       "      <td>nonstop</td>\n",
       "      <td>344Â SAR</td>\n",
       "      <td>2022-06-05</td>\n",
       "    </tr>\n",
       "    <tr>\n",
       "      <th>3</th>\n",
       "      <td>IndiGo</td>\n",
       "      <td>pune</td>\n",
       "      <td>chennai</td>\n",
       "      <td>1h 50m</td>\n",
       "      <td>nonstop</td>\n",
       "      <td>416Â SAR</td>\n",
       "      <td>2022-06-05</td>\n",
       "    </tr>\n",
       "    <tr>\n",
       "      <th>4</th>\n",
       "      <td>IndiGo</td>\n",
       "      <td>pune</td>\n",
       "      <td>chennai</td>\n",
       "      <td>1h 45m</td>\n",
       "      <td>nonstop</td>\n",
       "      <td>344Â SAR</td>\n",
       "      <td>2022-06-05</td>\n",
       "    </tr>\n",
       "    <tr>\n",
       "      <th>...</th>\n",
       "      <td>...</td>\n",
       "      <td>...</td>\n",
       "      <td>...</td>\n",
       "      <td>...</td>\n",
       "      <td>...</td>\n",
       "      <td>...</td>\n",
       "      <td>...</td>\n",
       "    </tr>\n",
       "    <tr>\n",
       "      <th>1715</th>\n",
       "      <td>IndiGo, AirAsia India</td>\n",
       "      <td>MAA</td>\n",
       "      <td>AMD</td>\n",
       "      <td>10h 10m</td>\n",
       "      <td>2 stops</td>\n",
       "      <td>1,451Â SAR</td>\n",
       "      <td>2022-06-08</td>\n",
       "    </tr>\n",
       "    <tr>\n",
       "      <th>1716</th>\n",
       "      <td>Hahn Air Systems</td>\n",
       "      <td>MAA</td>\n",
       "      <td>AMD</td>\n",
       "      <td>9h 45m</td>\n",
       "      <td>1 stop</td>\n",
       "      <td>1,812Â SAR</td>\n",
       "      <td>2022-06-08</td>\n",
       "    </tr>\n",
       "    <tr>\n",
       "      <th>1717</th>\n",
       "      <td>SpiceJet</td>\n",
       "      <td>MAA</td>\n",
       "      <td>AMD</td>\n",
       "      <td>9h 45m</td>\n",
       "      <td>1 stop</td>\n",
       "      <td>1,896Â SAR</td>\n",
       "      <td>2022-06-08</td>\n",
       "    </tr>\n",
       "    <tr>\n",
       "      <th>1718</th>\n",
       "      <td>Hahn Air Systems</td>\n",
       "      <td>MAA</td>\n",
       "      <td>AMD</td>\n",
       "      <td>9h 00m</td>\n",
       "      <td>2 stops</td>\n",
       "      <td>2,963Â SAR</td>\n",
       "      <td>2022-06-08</td>\n",
       "    </tr>\n",
       "    <tr>\n",
       "      <th>1719</th>\n",
       "      <td>SpiceJet, Alaska Seaplanes</td>\n",
       "      <td>MAA</td>\n",
       "      <td>AMD</td>\n",
       "      <td>4h 40m</td>\n",
       "      <td>1 stop</td>\n",
       "      <td>1,671Â SAR</td>\n",
       "      <td>2022-06-08</td>\n",
       "    </tr>\n",
       "  </tbody>\n",
       "</table>\n",
       "<p>1720 rows × 7 columns</p>\n",
       "</div>"
      ],
      "text/plain": [
       "                         Airline Source Destination  Duration Total stops  \\\n",
       "0                         IndiGo   pune     chennai   1h 45m     nonstop    \n",
       "1                         IndiGo   pune     chennai   1h 45m     nonstop    \n",
       "2                         IndiGo   pune     chennai   1h 40m     nonstop    \n",
       "3                         IndiGo   pune     chennai   1h 50m     nonstop    \n",
       "4                         IndiGo   pune     chennai   1h 45m     nonstop    \n",
       "...                          ...    ...         ...       ...         ...   \n",
       "1715       IndiGo, AirAsia India    MAA         AMD  10h 10m     2 stops    \n",
       "1716            Hahn Air Systems    MAA         AMD   9h 45m      1 stop    \n",
       "1717                    SpiceJet    MAA         AMD   9h 45m      1 stop    \n",
       "1718            Hahn Air Systems    MAA         AMD   9h 00m     2 stops    \n",
       "1719  SpiceJet, Alaska Seaplanes    MAA         AMD   4h 40m      1 stop    \n",
       "\n",
       "            Price       Date  \n",
       "0       451Â SAR  2022-06-05  \n",
       "1       375Â SAR  2022-06-05  \n",
       "2       344Â SAR  2022-06-05  \n",
       "3       416Â SAR  2022-06-05  \n",
       "4       344Â SAR  2022-06-05  \n",
       "...           ...        ...  \n",
       "1715  1,451Â SAR  2022-06-08  \n",
       "1716  1,812Â SAR  2022-06-08  \n",
       "1717  1,896Â SAR  2022-06-08  \n",
       "1718  2,963Â SAR  2022-06-08  \n",
       "1719  1,671Â SAR  2022-06-08  \n",
       "\n",
       "[1720 rows x 7 columns]"
      ]
     },
     "execution_count": 358,
     "metadata": {},
     "output_type": "execute_result"
    }
   ],
   "source": [
    "# Loading Dataset\n",
    "df = pd.read_excel(r'C:\\Users\\DELL\\Desktop\\internship projects\\flight price predic_dataset.xlsx')\n",
    "df"
   ]
  },
  {
   "cell_type": "markdown",
   "id": "41660e52",
   "metadata": {},
   "source": [
    "### Exploratory Data Analysis (EDA)"
   ]
  },
  {
   "cell_type": "code",
   "execution_count": 362,
   "id": "1b76d391",
   "metadata": {},
   "outputs": [
    {
     "name": "stdout",
     "output_type": "stream",
     "text": [
      "<class 'pandas.core.frame.DataFrame'>\n",
      "RangeIndex: 1720 entries, 0 to 1719\n",
      "Data columns (total 7 columns):\n",
      " #   Column       Non-Null Count  Dtype         \n",
      "---  ------       --------------  -----         \n",
      " 0   Airline      1720 non-null   object        \n",
      " 1   Source       1720 non-null   object        \n",
      " 2   Destination  1720 non-null   object        \n",
      " 3   Duration     1720 non-null   object        \n",
      " 4   Total stops  1720 non-null   object        \n",
      " 5   Price        1720 non-null   int32         \n",
      " 6   Date         1720 non-null   datetime64[ns]\n",
      "dtypes: datetime64[ns](1), int32(1), object(5)\n",
      "memory usage: 87.5+ KB\n"
     ]
    }
   ],
   "source": [
    "df.info()"
   ]
  },
  {
   "cell_type": "code",
   "execution_count": 360,
   "id": "9b87ef16",
   "metadata": {
    "collapsed": true
   },
   "outputs": [
    {
     "data": {
      "text/plain": [
       "0        451\n",
       "1        375\n",
       "2        344\n",
       "3        416\n",
       "4        344\n",
       "        ... \n",
       "1715    1451\n",
       "1716    1812\n",
       "1717    1896\n",
       "1718    2963\n",
       "1719    1671\n",
       "Name: Price, Length: 1720, dtype: int32"
      ]
     },
     "execution_count": 360,
     "metadata": {},
     "output_type": "execute_result"
    }
   ],
   "source": [
    "#convert price to numerical format\n",
    "df['Price']=df['Price'].str.replace('[\\Â SAR\\,]','').astype(int)\n",
    "df['Price']"
   ]
  },
  {
   "cell_type": "markdown",
   "id": "943e93bb",
   "metadata": {},
   "source": [
    "Here we change remove the currancy sign and convert the price column into integer"
   ]
  },
  {
   "cell_type": "code",
   "execution_count": 363,
   "id": "f60dd764",
   "metadata": {},
   "outputs": [
    {
     "data": {
      "text/plain": [
       "Airline                object\n",
       "Source                 object\n",
       "Destination            object\n",
       "Duration               object\n",
       "Total stops            object\n",
       "Price                   int32\n",
       "Date           datetime64[ns]\n",
       "dtype: object"
      ]
     },
     "execution_count": 363,
     "metadata": {},
     "output_type": "execute_result"
    }
   ],
   "source": [
    "# Checking Data types\n",
    "df.dtypes"
   ]
  },
  {
   "cell_type": "code",
   "execution_count": 364,
   "id": "bc6f6974",
   "metadata": {},
   "outputs": [
    {
     "data": {
      "text/plain": [
       "Index(['Airline', 'Source', 'Destination', 'Duration', 'Total stops', 'Price',\n",
       "       'Date'],\n",
       "      dtype='object')"
      ]
     },
     "execution_count": 364,
     "metadata": {},
     "output_type": "execute_result"
    }
   ],
   "source": [
    "#columns name\n",
    "df.columns"
   ]
  },
  {
   "cell_type": "code",
   "execution_count": 365,
   "id": "8d42c732",
   "metadata": {},
   "outputs": [
    {
     "data": {
      "text/plain": [
       "Airline        0\n",
       "Source         0\n",
       "Destination    0\n",
       "Duration       0\n",
       "Total stops    0\n",
       "Price          0\n",
       "Date           0\n",
       "dtype: int64"
      ]
     },
     "execution_count": 365,
     "metadata": {},
     "output_type": "execute_result"
    }
   ],
   "source": [
    "# Checking Null Values\n",
    "df.isnull().sum()"
   ]
  },
  {
   "cell_type": "code",
   "execution_count": 366,
   "id": "dce4518a",
   "metadata": {},
   "outputs": [
    {
     "data": {
      "text/plain": [
       "(1720, 7)"
      ]
     },
     "execution_count": 366,
     "metadata": {},
     "output_type": "execute_result"
    }
   ],
   "source": [
    "df.shape"
   ]
  },
  {
   "cell_type": "markdown",
   "id": "d25bfc34",
   "metadata": {},
   "source": [
    "There are 2 columns('Date', 'Duration') that we need to process"
   ]
  },
  {
   "cell_type": "code",
   "execution_count": 367,
   "id": "138896c2",
   "metadata": {},
   "outputs": [],
   "source": [
    "#Separating the \"Date\" column in year, month and day column\n",
    "df['Date'] = pd.to_datetime(df['Date'])\n",
    "df['Year'] = df['Date'].dt.year\n",
    "df['Month'] = df['Date'].dt.month\n",
    "df['Day'] = df['Date'].dt.day"
   ]
  },
  {
   "cell_type": "code",
   "execution_count": 368,
   "id": "71367623",
   "metadata": {},
   "outputs": [],
   "source": [
    "#After separating drop the 'Date_of_Journey' column\n",
    "df.drop('Date', axis = 1, inplace = True)"
   ]
  },
  {
   "cell_type": "code",
   "execution_count": 369,
   "id": "568b2129",
   "metadata": {},
   "outputs": [
    {
     "data": {
      "text/html": [
       "<div>\n",
       "<style scoped>\n",
       "    .dataframe tbody tr th:only-of-type {\n",
       "        vertical-align: middle;\n",
       "    }\n",
       "\n",
       "    .dataframe tbody tr th {\n",
       "        vertical-align: top;\n",
       "    }\n",
       "\n",
       "    .dataframe thead th {\n",
       "        text-align: right;\n",
       "    }\n",
       "</style>\n",
       "<table border=\"1\" class=\"dataframe\">\n",
       "  <thead>\n",
       "    <tr style=\"text-align: right;\">\n",
       "      <th></th>\n",
       "      <th>Airline</th>\n",
       "      <th>Source</th>\n",
       "      <th>Destination</th>\n",
       "      <th>Duration</th>\n",
       "      <th>Total stops</th>\n",
       "      <th>Price</th>\n",
       "      <th>Year</th>\n",
       "      <th>Month</th>\n",
       "      <th>Day</th>\n",
       "    </tr>\n",
       "  </thead>\n",
       "  <tbody>\n",
       "    <tr>\n",
       "      <th>0</th>\n",
       "      <td>IndiGo</td>\n",
       "      <td>pune</td>\n",
       "      <td>chennai</td>\n",
       "      <td>1h 45m</td>\n",
       "      <td>nonstop</td>\n",
       "      <td>451</td>\n",
       "      <td>2022</td>\n",
       "      <td>6</td>\n",
       "      <td>5</td>\n",
       "    </tr>\n",
       "    <tr>\n",
       "      <th>1</th>\n",
       "      <td>IndiGo</td>\n",
       "      <td>pune</td>\n",
       "      <td>chennai</td>\n",
       "      <td>1h 45m</td>\n",
       "      <td>nonstop</td>\n",
       "      <td>375</td>\n",
       "      <td>2022</td>\n",
       "      <td>6</td>\n",
       "      <td>5</td>\n",
       "    </tr>\n",
       "    <tr>\n",
       "      <th>2</th>\n",
       "      <td>IndiGo</td>\n",
       "      <td>pune</td>\n",
       "      <td>chennai</td>\n",
       "      <td>1h 40m</td>\n",
       "      <td>nonstop</td>\n",
       "      <td>344</td>\n",
       "      <td>2022</td>\n",
       "      <td>6</td>\n",
       "      <td>5</td>\n",
       "    </tr>\n",
       "    <tr>\n",
       "      <th>3</th>\n",
       "      <td>IndiGo</td>\n",
       "      <td>pune</td>\n",
       "      <td>chennai</td>\n",
       "      <td>1h 50m</td>\n",
       "      <td>nonstop</td>\n",
       "      <td>416</td>\n",
       "      <td>2022</td>\n",
       "      <td>6</td>\n",
       "      <td>5</td>\n",
       "    </tr>\n",
       "    <tr>\n",
       "      <th>4</th>\n",
       "      <td>IndiGo</td>\n",
       "      <td>pune</td>\n",
       "      <td>chennai</td>\n",
       "      <td>1h 45m</td>\n",
       "      <td>nonstop</td>\n",
       "      <td>344</td>\n",
       "      <td>2022</td>\n",
       "      <td>6</td>\n",
       "      <td>5</td>\n",
       "    </tr>\n",
       "  </tbody>\n",
       "</table>\n",
       "</div>"
      ],
      "text/plain": [
       "  Airline Source Destination Duration Total stops  Price  Year  Month  Day\n",
       "0  IndiGo   pune     chennai  1h 45m     nonstop     451  2022      6    5\n",
       "1  IndiGo   pune     chennai  1h 45m     nonstop     375  2022      6    5\n",
       "2  IndiGo   pune     chennai  1h 40m     nonstop     344  2022      6    5\n",
       "3  IndiGo   pune     chennai  1h 50m     nonstop     416  2022      6    5\n",
       "4  IndiGo   pune     chennai  1h 45m     nonstop     344  2022      6    5"
      ]
     },
     "execution_count": 369,
     "metadata": {},
     "output_type": "execute_result"
    }
   ],
   "source": [
    "df.head()"
   ]
  },
  {
   "cell_type": "code",
   "execution_count": 370,
   "id": "c32d38c0",
   "metadata": {},
   "outputs": [
    {
     "data": {
      "text/plain": [
       "Airline         38\n",
       "Source           5\n",
       "Destination      5\n",
       "Duration       140\n",
       "Total stops      4\n",
       "Price          561\n",
       "Year             1\n",
       "Month            1\n",
       "Day              8\n",
       "dtype: int64"
      ]
     },
     "execution_count": 370,
     "metadata": {},
     "output_type": "execute_result"
    }
   ],
   "source": [
    "df.nunique()"
   ]
  },
  {
   "cell_type": "code",
   "execution_count": 371,
   "id": "9fcb5701",
   "metadata": {},
   "outputs": [],
   "source": [
    "# dropping the year column also\n",
    "df.drop('Year', axis = 1, inplace = True)\n",
    "df.drop([\"Month\"], axis = 1, inplace = True)"
   ]
  },
  {
   "cell_type": "code",
   "execution_count": 372,
   "id": "ab6e50c2",
   "metadata": {},
   "outputs": [],
   "source": [
    "# converting Duration column into list\n",
    "duration = list(df[\"Duration\"])\n",
    "\n",
    "for i in range(len(duration)):\n",
    "    if len(duration[i].split()) != 2:    # Checking if duration contains only hour or mins\n",
    "        if \"h\" in duration[i]:\n",
    "            duration[i] = duration[i].strip() + \" 0m\"   # Adds 0 minute\n",
    "        else:\n",
    "            duration[i] = \"0h \" + duration[i]           # Adds 0 hour\n",
    "\n",
    "duration_hours = []\n",
    "duration_mins = []\n",
    "for i in range(len(duration)):\n",
    "    duration_hours.append(int(duration[i].split(sep = \"h\")[0]))    # Extract hours \n",
    "    duration_mins.append(int(duration[i].split(sep = \"m\")[0].split()[-1]))   # Extract minutes "
   ]
  },
  {
   "cell_type": "code",
   "execution_count": 373,
   "id": "ba7eea07",
   "metadata": {},
   "outputs": [],
   "source": [
    "# Adding duration_hours and duration_mins list to train_data dataframe\n",
    "\n",
    "df[\"Duration_hours\"] = duration_hours\n",
    "df[\"Duration_mins\"] = duration_mins"
   ]
  },
  {
   "cell_type": "code",
   "execution_count": 374,
   "id": "93cfa507",
   "metadata": {},
   "outputs": [],
   "source": [
    "df.drop([\"Duration\"], axis = 1, inplace = True)"
   ]
  },
  {
   "cell_type": "code",
   "execution_count": 375,
   "id": "d2f6271f",
   "metadata": {},
   "outputs": [
    {
     "data": {
      "text/html": [
       "<div>\n",
       "<style scoped>\n",
       "    .dataframe tbody tr th:only-of-type {\n",
       "        vertical-align: middle;\n",
       "    }\n",
       "\n",
       "    .dataframe tbody tr th {\n",
       "        vertical-align: top;\n",
       "    }\n",
       "\n",
       "    .dataframe thead th {\n",
       "        text-align: right;\n",
       "    }\n",
       "</style>\n",
       "<table border=\"1\" class=\"dataframe\">\n",
       "  <thead>\n",
       "    <tr style=\"text-align: right;\">\n",
       "      <th></th>\n",
       "      <th>Airline</th>\n",
       "      <th>Source</th>\n",
       "      <th>Destination</th>\n",
       "      <th>Total stops</th>\n",
       "      <th>Price</th>\n",
       "      <th>Day</th>\n",
       "      <th>Duration_hours</th>\n",
       "      <th>Duration_mins</th>\n",
       "    </tr>\n",
       "  </thead>\n",
       "  <tbody>\n",
       "    <tr>\n",
       "      <th>0</th>\n",
       "      <td>IndiGo</td>\n",
       "      <td>pune</td>\n",
       "      <td>chennai</td>\n",
       "      <td>nonstop</td>\n",
       "      <td>451</td>\n",
       "      <td>5</td>\n",
       "      <td>1</td>\n",
       "      <td>45</td>\n",
       "    </tr>\n",
       "    <tr>\n",
       "      <th>1</th>\n",
       "      <td>IndiGo</td>\n",
       "      <td>pune</td>\n",
       "      <td>chennai</td>\n",
       "      <td>nonstop</td>\n",
       "      <td>375</td>\n",
       "      <td>5</td>\n",
       "      <td>1</td>\n",
       "      <td>45</td>\n",
       "    </tr>\n",
       "    <tr>\n",
       "      <th>2</th>\n",
       "      <td>IndiGo</td>\n",
       "      <td>pune</td>\n",
       "      <td>chennai</td>\n",
       "      <td>nonstop</td>\n",
       "      <td>344</td>\n",
       "      <td>5</td>\n",
       "      <td>1</td>\n",
       "      <td>40</td>\n",
       "    </tr>\n",
       "    <tr>\n",
       "      <th>3</th>\n",
       "      <td>IndiGo</td>\n",
       "      <td>pune</td>\n",
       "      <td>chennai</td>\n",
       "      <td>nonstop</td>\n",
       "      <td>416</td>\n",
       "      <td>5</td>\n",
       "      <td>1</td>\n",
       "      <td>50</td>\n",
       "    </tr>\n",
       "    <tr>\n",
       "      <th>4</th>\n",
       "      <td>IndiGo</td>\n",
       "      <td>pune</td>\n",
       "      <td>chennai</td>\n",
       "      <td>nonstop</td>\n",
       "      <td>344</td>\n",
       "      <td>5</td>\n",
       "      <td>1</td>\n",
       "      <td>45</td>\n",
       "    </tr>\n",
       "  </tbody>\n",
       "</table>\n",
       "</div>"
      ],
      "text/plain": [
       "  Airline Source Destination Total stops  Price  Day  Duration_hours  \\\n",
       "0  IndiGo   pune     chennai    nonstop     451    5               1   \n",
       "1  IndiGo   pune     chennai    nonstop     375    5               1   \n",
       "2  IndiGo   pune     chennai    nonstop     344    5               1   \n",
       "3  IndiGo   pune     chennai    nonstop     416    5               1   \n",
       "4  IndiGo   pune     chennai    nonstop     344    5               1   \n",
       "\n",
       "   Duration_mins  \n",
       "0             45  \n",
       "1             45  \n",
       "2             40  \n",
       "3             50  \n",
       "4             45  "
      ]
     },
     "execution_count": 375,
     "metadata": {},
     "output_type": "execute_result"
    }
   ],
   "source": [
    "df.head()"
   ]
  },
  {
   "cell_type": "code",
   "execution_count": 376,
   "id": "9e6b32d8",
   "metadata": {},
   "outputs": [
    {
     "data": {
      "text/plain": [
       "(1720, 8)"
      ]
     },
     "execution_count": 376,
     "metadata": {},
     "output_type": "execute_result"
    }
   ],
   "source": [
    "df.shape"
   ]
  },
  {
   "cell_type": "code",
   "execution_count": 377,
   "id": "6fe69e9a",
   "metadata": {},
   "outputs": [
    {
     "name": "stdout",
     "output_type": "stream",
     "text": [
      "<class 'pandas.core.frame.DataFrame'>\n",
      "RangeIndex: 1720 entries, 0 to 1719\n",
      "Data columns (total 8 columns):\n",
      " #   Column          Non-Null Count  Dtype \n",
      "---  ------          --------------  ----- \n",
      " 0   Airline         1720 non-null   object\n",
      " 1   Source          1720 non-null   object\n",
      " 2   Destination     1720 non-null   object\n",
      " 3   Total stops     1720 non-null   object\n",
      " 4   Price           1720 non-null   int32 \n",
      " 5   Day             1720 non-null   int64 \n",
      " 6   Duration_hours  1720 non-null   int64 \n",
      " 7   Duration_mins   1720 non-null   int64 \n",
      "dtypes: int32(1), int64(3), object(4)\n",
      "memory usage: 100.9+ KB\n"
     ]
    }
   ],
   "source": [
    "df.info()"
   ]
  },
  {
   "cell_type": "code",
   "execution_count": 378,
   "id": "0058bd61",
   "metadata": {},
   "outputs": [
    {
     "data": {
      "text/plain": [
       "Airline            38\n",
       "Source              5\n",
       "Destination         5\n",
       "Total stops         4\n",
       "Price             561\n",
       "Day                 8\n",
       "Duration_hours     20\n",
       "Duration_mins      12\n",
       "dtype: int64"
      ]
     },
     "execution_count": 378,
     "metadata": {},
     "output_type": "execute_result"
    }
   ],
   "source": [
    "df.nunique()"
   ]
  },
  {
   "cell_type": "code",
   "execution_count": 379,
   "id": "1915634e",
   "metadata": {},
   "outputs": [
    {
     "data": {
      "text/html": [
       "<div>\n",
       "<style scoped>\n",
       "    .dataframe tbody tr th:only-of-type {\n",
       "        vertical-align: middle;\n",
       "    }\n",
       "\n",
       "    .dataframe tbody tr th {\n",
       "        vertical-align: top;\n",
       "    }\n",
       "\n",
       "    .dataframe thead th {\n",
       "        text-align: right;\n",
       "    }\n",
       "</style>\n",
       "<table border=\"1\" class=\"dataframe\">\n",
       "  <thead>\n",
       "    <tr style=\"text-align: right;\">\n",
       "      <th></th>\n",
       "      <th>Price</th>\n",
       "      <th>Day</th>\n",
       "      <th>Duration_hours</th>\n",
       "      <th>Duration_mins</th>\n",
       "    </tr>\n",
       "  </thead>\n",
       "  <tbody>\n",
       "    <tr>\n",
       "      <th>count</th>\n",
       "      <td>1720.000000</td>\n",
       "      <td>1720.000000</td>\n",
       "      <td>1720.000000</td>\n",
       "      <td>1720.000000</td>\n",
       "    </tr>\n",
       "    <tr>\n",
       "      <th>mean</th>\n",
       "      <td>692.881395</td>\n",
       "      <td>6.336628</td>\n",
       "      <td>5.271512</td>\n",
       "      <td>27.200581</td>\n",
       "    </tr>\n",
       "    <tr>\n",
       "      <th>std</th>\n",
       "      <td>336.286904</td>\n",
       "      <td>1.574612</td>\n",
       "      <td>3.113913</td>\n",
       "      <td>17.537391</td>\n",
       "    </tr>\n",
       "    <tr>\n",
       "      <th>min</th>\n",
       "      <td>320.000000</td>\n",
       "      <td>3.000000</td>\n",
       "      <td>1.000000</td>\n",
       "      <td>0.000000</td>\n",
       "    </tr>\n",
       "    <tr>\n",
       "      <th>25%</th>\n",
       "      <td>449.000000</td>\n",
       "      <td>5.000000</td>\n",
       "      <td>2.000000</td>\n",
       "      <td>10.000000</td>\n",
       "    </tr>\n",
       "    <tr>\n",
       "      <th>50%</th>\n",
       "      <td>629.500000</td>\n",
       "      <td>6.000000</td>\n",
       "      <td>5.000000</td>\n",
       "      <td>25.000000</td>\n",
       "    </tr>\n",
       "    <tr>\n",
       "      <th>75%</th>\n",
       "      <td>811.250000</td>\n",
       "      <td>7.000000</td>\n",
       "      <td>7.000000</td>\n",
       "      <td>45.000000</td>\n",
       "    </tr>\n",
       "    <tr>\n",
       "      <th>max</th>\n",
       "      <td>2963.000000</td>\n",
       "      <td>10.000000</td>\n",
       "      <td>27.000000</td>\n",
       "      <td>55.000000</td>\n",
       "    </tr>\n",
       "  </tbody>\n",
       "</table>\n",
       "</div>"
      ],
      "text/plain": [
       "             Price          Day  Duration_hours  Duration_mins\n",
       "count  1720.000000  1720.000000     1720.000000    1720.000000\n",
       "mean    692.881395     6.336628        5.271512      27.200581\n",
       "std     336.286904     1.574612        3.113913      17.537391\n",
       "min     320.000000     3.000000        1.000000       0.000000\n",
       "25%     449.000000     5.000000        2.000000      10.000000\n",
       "50%     629.500000     6.000000        5.000000      25.000000\n",
       "75%     811.250000     7.000000        7.000000      45.000000\n",
       "max    2963.000000    10.000000       27.000000      55.000000"
      ]
     },
     "execution_count": 379,
     "metadata": {},
     "output_type": "execute_result"
    }
   ],
   "source": [
    "df.describe()"
   ]
  },
  {
   "cell_type": "markdown",
   "id": "a4c5d009",
   "metadata": {},
   "source": [
    "### Visualization"
   ]
  },
  {
   "cell_type": "code",
   "execution_count": 386,
   "id": "5e429d73",
   "metadata": {},
   "outputs": [
    {
     "name": "stdout",
     "output_type": "stream",
     "text": [
      "IndiGo                        569\n",
      "Vistara                       286\n",
      "GoFirst                       162\n",
      "Air India                     144\n",
      "SpiceJet                      125\n",
      "AirAsia India                  68\n",
      "IndiGo, GoFirst                54\n",
      "GoFirst, IndiGo                50\n",
      "IndiGo, Vistara                41\n",
      "AirAsia India, IndiGo          32\n",
      "FlexFlight                     31\n",
      "Vistara, IndiGo                21\n",
      "Hahn Air Systems               20\n",
      "IndiGo, AirAsia India          16\n",
      "IndiGo, SpiceJet               12\n",
      "GoFirst, Vistara                9\n",
      "SpiceJet, Vistara               8\n",
      "SpiceJet, IndiGo                7\n",
      "IndiGo, Air India               7\n",
      "SpiceJet, Air India             7\n",
      "AirAsia India, GoFirst          6\n",
      "AirAsia India, SpiceJet         6\n",
      "GoFirst, Air India              5\n",
      "Vistara, GoFirst                5\n",
      "Qatar Airways                   4\n",
      "Alaska Seaplanes                4\n",
      "Emirates                        4\n",
      "Alaska Seaplanes, SpiceJet      3\n",
      "GoFirst, AirAsia India          3\n",
      "SpiceJet, AirAsia India         2\n",
      "GoFirst, SpiceJet               2\n",
      "Malaysia Airlines               1\n",
      "Singapore Airlines              1\n",
      "SriLankan Airlines              1\n",
      "SpiceJet, GoFirst               1\n",
      "AirAsia India, Vistara          1\n",
      "Air India, GoFirst              1\n",
      "SpiceJet, Alaska Seaplanes      1\n",
      "Name: Airline, dtype: int64\n"
     ]
    },
    {
     "data": {
      "image/png": "[encoded data removed]",
      "text/plain": [
       "<Figure size 1080x1080 with 1 Axes>"
      ]
     },
     "metadata": {},
     "output_type": "display_data"
    }
   ],
   "source": [
    "plt.figure(figsize=(15,15))\n",
    "sns.barplot(y=\"Airline\",x='Price', data=df)\n",
    "print(df[\"Airline\"].value_counts())"
   ]
  },
  {
   "cell_type": "markdown",
   "id": "c0526c16",
   "metadata": {},
   "source": [
    "Indigo airline's price is low than other"
   ]
  },
  {
   "cell_type": "code",
   "execution_count": 387,
   "id": "8a6a6a7b",
   "metadata": {
    "scrolled": false
   },
   "outputs": [
    {
     "name": "stdout",
     "output_type": "stream",
     "text": [
      "PNQ     508\n",
      "DEL     441\n",
      "MAA     394\n",
      "BLR     271\n",
      "pune    106\n",
      "Name: Source, dtype: int64\n"
     ]
    },
    {
     "data": {
      "image/png": "[encoded data removed]",
      "text/plain": [
       "<Figure size 432x288 with 1 Axes>"
      ]
     },
     "metadata": {},
     "output_type": "display_data"
    }
   ],
   "source": [
    "#plt.figure(figsize=(10,5))\n",
    "sns.barplot(x=\"Source\",y='Price', data=df)\n",
    "print(df[\"Source\"].value_counts())"
   ]
  },
  {
   "cell_type": "code",
   "execution_count": 388,
   "id": "b0bc6088",
   "metadata": {},
   "outputs": [
    {
     "name": "stdout",
     "output_type": "stream",
     "text": [
      "DEL        622\n",
      "BOM        348\n",
      "AMD        333\n",
      "CCU        311\n",
      "chennai    106\n",
      "Name: Destination, dtype: int64\n"
     ]
    },
    {
     "data": {
      "image/png": "[encoded data removed]",
      "text/plain": [
       "<Figure size 576x216 with 1 Axes>"
      ]
     },
     "metadata": {},
     "output_type": "display_data"
    }
   ],
   "source": [
    "plt.figure(figsize=(8,3))\n",
    "sns.barplot(y=\"Destination\",x='Price', data=df)\n",
    "print(df[\"Destination\"].value_counts())"
   ]
  },
  {
   "cell_type": "code",
   "execution_count": 389,
   "id": "835b1c0c",
   "metadata": {},
   "outputs": [
    {
     "name": "stdout",
     "output_type": "stream",
     "text": [
      "1 stop      1120\n",
      "nonstop      505\n",
      "2 stops       88\n",
      "3 stops        7\n",
      "Name: Total stops, dtype: int64\n"
     ]
    },
    {
     "data": {
      "image/png": "[encoded data removed]",
      "text/plain": [
       "<Figure size 576x216 with 1 Axes>"
      ]
     },
     "metadata": {},
     "output_type": "display_data"
    }
   ],
   "source": [
    "plt.figure(figsize=(8,3))\n",
    "sns.barplot(y=\"Total stops\",x='Price', data=df)\n",
    "print(df[\"Total stops\"].value_counts())"
   ]
  },
  {
   "cell_type": "code",
   "execution_count": 390,
   "id": "a2099061",
   "metadata": {},
   "outputs": [
    {
     "name": "stdout",
     "output_type": "stream",
     "text": [
      "6     443\n",
      "7     353\n",
      "5     320\n",
      "8     230\n",
      "4     211\n",
      "10     79\n",
      "9      74\n",
      "3      10\n",
      "Name: Day, dtype: int64\n"
     ]
    },
    {
     "data": {
      "image/png": "[encoded data removed]",
      "text/plain": [
       "<Figure size 432x288 with 1 Axes>"
      ]
     },
     "metadata": {},
     "output_type": "display_data"
    }
   ],
   "source": [
    "ax = sns.countplot (x = \"Day\", data = df)\n",
    "print(df[\"Day\"].value_counts())"
   ]
  },
  {
   "cell_type": "code",
   "execution_count": 391,
   "id": "f8e58552",
   "metadata": {},
   "outputs": [
    {
     "name": "stdout",
     "output_type": "stream",
     "text": [
      "2     391\n",
      "5     319\n",
      "6     290\n",
      "7     161\n",
      "1     106\n",
      "4      98\n",
      "9      95\n",
      "8      81\n",
      "10     67\n",
      "11     41\n",
      "3      31\n",
      "12     16\n",
      "14      7\n",
      "13      4\n",
      "15      3\n",
      "16      3\n",
      "27      3\n",
      "22      2\n",
      "23      1\n",
      "25      1\n",
      "Name: Duration_hours, dtype: int64\n"
     ]
    },
    {
     "data": {
      "image/png": "[encoded data removed]",
      "text/plain": [
       "<Figure size 432x288 with 1 Axes>"
      ]
     },
     "metadata": {},
     "output_type": "display_data"
    }
   ],
   "source": [
    "ax = sns.countplot (x = \"Duration_hours\", data = df)\n",
    "print(df[\"Duration_hours\"].value_counts())"
   ]
  },
  {
   "cell_type": "code",
   "execution_count": 392,
   "id": "206315eb",
   "metadata": {},
   "outputs": [
    {
     "data": {
      "text/plain": [
       "Index(['Airline', 'Source', 'Destination', 'Total stops', 'Price', 'Day',\n",
       "       'Duration_hours', 'Duration_mins'],\n",
       "      dtype='object')"
      ]
     },
     "execution_count": 392,
     "metadata": {},
     "output_type": "execute_result"
    }
   ],
   "source": [
    "df.columns"
   ]
  },
  {
   "cell_type": "code",
   "execution_count": 393,
   "id": "6eb865d7",
   "metadata": {},
   "outputs": [],
   "source": [
    "#Encoding of Dataframe:\n",
    "from sklearn.preprocessing import LabelEncoder\n",
    "le = LabelEncoder()\n",
    "for i in ('Airline', 'Source', 'Destination', 'Total stops'): df[i] = le.fit_transform(df[i])"
   ]
  },
  {
   "cell_type": "code",
   "execution_count": 394,
   "id": "a1f8af94",
   "metadata": {},
   "outputs": [
    {
     "data": {
      "text/html": [
       "<div>\n",
       "<style scoped>\n",
       "    .dataframe tbody tr th:only-of-type {\n",
       "        vertical-align: middle;\n",
       "    }\n",
       "\n",
       "    .dataframe tbody tr th {\n",
       "        vertical-align: top;\n",
       "    }\n",
       "\n",
       "    .dataframe thead th {\n",
       "        text-align: right;\n",
       "    }\n",
       "</style>\n",
       "<table border=\"1\" class=\"dataframe\">\n",
       "  <thead>\n",
       "    <tr style=\"text-align: right;\">\n",
       "      <th></th>\n",
       "      <th>Airline</th>\n",
       "      <th>Source</th>\n",
       "      <th>Destination</th>\n",
       "      <th>Total stops</th>\n",
       "      <th>Price</th>\n",
       "      <th>Day</th>\n",
       "      <th>Duration_hours</th>\n",
       "      <th>Duration_mins</th>\n",
       "    </tr>\n",
       "  </thead>\n",
       "  <tbody>\n",
       "    <tr>\n",
       "      <th>0</th>\n",
       "      <td>18</td>\n",
       "      <td>4</td>\n",
       "      <td>4</td>\n",
       "      <td>3</td>\n",
       "      <td>451</td>\n",
       "      <td>5</td>\n",
       "      <td>1</td>\n",
       "      <td>45</td>\n",
       "    </tr>\n",
       "    <tr>\n",
       "      <th>1</th>\n",
       "      <td>18</td>\n",
       "      <td>4</td>\n",
       "      <td>4</td>\n",
       "      <td>3</td>\n",
       "      <td>375</td>\n",
       "      <td>5</td>\n",
       "      <td>1</td>\n",
       "      <td>45</td>\n",
       "    </tr>\n",
       "    <tr>\n",
       "      <th>2</th>\n",
       "      <td>18</td>\n",
       "      <td>4</td>\n",
       "      <td>4</td>\n",
       "      <td>3</td>\n",
       "      <td>344</td>\n",
       "      <td>5</td>\n",
       "      <td>1</td>\n",
       "      <td>40</td>\n",
       "    </tr>\n",
       "    <tr>\n",
       "      <th>3</th>\n",
       "      <td>18</td>\n",
       "      <td>4</td>\n",
       "      <td>4</td>\n",
       "      <td>3</td>\n",
       "      <td>416</td>\n",
       "      <td>5</td>\n",
       "      <td>1</td>\n",
       "      <td>50</td>\n",
       "    </tr>\n",
       "    <tr>\n",
       "      <th>4</th>\n",
       "      <td>18</td>\n",
       "      <td>4</td>\n",
       "      <td>4</td>\n",
       "      <td>3</td>\n",
       "      <td>344</td>\n",
       "      <td>5</td>\n",
       "      <td>1</td>\n",
       "      <td>45</td>\n",
       "    </tr>\n",
       "  </tbody>\n",
       "</table>\n",
       "</div>"
      ],
      "text/plain": [
       "   Airline  Source  Destination  Total stops  Price  Day  Duration_hours  \\\n",
       "0       18       4            4            3    451    5               1   \n",
       "1       18       4            4            3    375    5               1   \n",
       "2       18       4            4            3    344    5               1   \n",
       "3       18       4            4            3    416    5               1   \n",
       "4       18       4            4            3    344    5               1   \n",
       "\n",
       "   Duration_mins  \n",
       "0             45  \n",
       "1             45  \n",
       "2             40  \n",
       "3             50  \n",
       "4             45  "
      ]
     },
     "execution_count": 394,
     "metadata": {},
     "output_type": "execute_result"
    }
   ],
   "source": [
    "df.head()"
   ]
  },
  {
   "cell_type": "code",
   "execution_count": 395,
   "id": "4581ce58",
   "metadata": {},
   "outputs": [
    {
     "data": {
      "text/html": [
       "<div>\n",
       "<style scoped>\n",
       "    .dataframe tbody tr th:only-of-type {\n",
       "        vertical-align: middle;\n",
       "    }\n",
       "\n",
       "    .dataframe tbody tr th {\n",
       "        vertical-align: top;\n",
       "    }\n",
       "\n",
       "    .dataframe thead th {\n",
       "        text-align: right;\n",
       "    }\n",
       "</style>\n",
       "<table border=\"1\" class=\"dataframe\">\n",
       "  <thead>\n",
       "    <tr style=\"text-align: right;\">\n",
       "      <th></th>\n",
       "      <th>Airline</th>\n",
       "      <th>Source</th>\n",
       "      <th>Destination</th>\n",
       "      <th>Total stops</th>\n",
       "      <th>Price</th>\n",
       "      <th>Day</th>\n",
       "      <th>Duration_hours</th>\n",
       "      <th>Duration_mins</th>\n",
       "    </tr>\n",
       "  </thead>\n",
       "  <tbody>\n",
       "    <tr>\n",
       "      <th>Airline</th>\n",
       "      <td>1.000000</td>\n",
       "      <td>-0.073169</td>\n",
       "      <td>-0.023686</td>\n",
       "      <td>-0.078523</td>\n",
       "      <td>0.027989</td>\n",
       "      <td>0.006215</td>\n",
       "      <td>-0.033263</td>\n",
       "      <td>0.024070</td>\n",
       "    </tr>\n",
       "    <tr>\n",
       "      <th>Source</th>\n",
       "      <td>-0.073169</td>\n",
       "      <td>1.000000</td>\n",
       "      <td>-0.028744</td>\n",
       "      <td>-0.165782</td>\n",
       "      <td>0.135506</td>\n",
       "      <td>0.177455</td>\n",
       "      <td>0.199688</td>\n",
       "      <td>-0.063260</td>\n",
       "    </tr>\n",
       "    <tr>\n",
       "      <th>Destination</th>\n",
       "      <td>-0.023686</td>\n",
       "      <td>-0.028744</td>\n",
       "      <td>1.000000</td>\n",
       "      <td>0.187322</td>\n",
       "      <td>-0.143975</td>\n",
       "      <td>-0.074896</td>\n",
       "      <td>-0.152161</td>\n",
       "      <td>0.072719</td>\n",
       "    </tr>\n",
       "    <tr>\n",
       "      <th>Total stops</th>\n",
       "      <td>-0.078523</td>\n",
       "      <td>-0.165782</td>\n",
       "      <td>0.187322</td>\n",
       "      <td>1.000000</td>\n",
       "      <td>-0.324221</td>\n",
       "      <td>-0.228036</td>\n",
       "      <td>-0.667549</td>\n",
       "      <td>0.023722</td>\n",
       "    </tr>\n",
       "    <tr>\n",
       "      <th>Price</th>\n",
       "      <td>0.027989</td>\n",
       "      <td>0.135506</td>\n",
       "      <td>-0.143975</td>\n",
       "      <td>-0.324221</td>\n",
       "      <td>1.000000</td>\n",
       "      <td>0.074897</td>\n",
       "      <td>0.358638</td>\n",
       "      <td>-0.038484</td>\n",
       "    </tr>\n",
       "    <tr>\n",
       "      <th>Day</th>\n",
       "      <td>0.006215</td>\n",
       "      <td>0.177455</td>\n",
       "      <td>-0.074896</td>\n",
       "      <td>-0.228036</td>\n",
       "      <td>0.074897</td>\n",
       "      <td>1.000000</td>\n",
       "      <td>0.188382</td>\n",
       "      <td>0.034461</td>\n",
       "    </tr>\n",
       "    <tr>\n",
       "      <th>Duration_hours</th>\n",
       "      <td>-0.033263</td>\n",
       "      <td>0.199688</td>\n",
       "      <td>-0.152161</td>\n",
       "      <td>-0.667549</td>\n",
       "      <td>0.358638</td>\n",
       "      <td>0.188382</td>\n",
       "      <td>1.000000</td>\n",
       "      <td>-0.079976</td>\n",
       "    </tr>\n",
       "    <tr>\n",
       "      <th>Duration_mins</th>\n",
       "      <td>0.024070</td>\n",
       "      <td>-0.063260</td>\n",
       "      <td>0.072719</td>\n",
       "      <td>0.023722</td>\n",
       "      <td>-0.038484</td>\n",
       "      <td>0.034461</td>\n",
       "      <td>-0.079976</td>\n",
       "      <td>1.000000</td>\n",
       "    </tr>\n",
       "  </tbody>\n",
       "</table>\n",
       "</div>"
      ],
      "text/plain": [
       "                 Airline    Source  Destination  Total stops     Price  \\\n",
       "Airline         1.000000 -0.073169    -0.023686    -0.078523  0.027989   \n",
       "Source         -0.073169  1.000000    -0.028744    -0.165782  0.135506   \n",
       "Destination    -0.023686 -0.028744     1.000000     0.187322 -0.143975   \n",
       "Total stops    -0.078523 -0.165782     0.187322     1.000000 -0.324221   \n",
       "Price           0.027989  0.135506    -0.143975    -0.324221  1.000000   \n",
       "Day             0.006215  0.177455    -0.074896    -0.228036  0.074897   \n",
       "Duration_hours -0.033263  0.199688    -0.152161    -0.667549  0.358638   \n",
       "Duration_mins   0.024070 -0.063260     0.072719     0.023722 -0.038484   \n",
       "\n",
       "                     Day  Duration_hours  Duration_mins  \n",
       "Airline         0.006215       -0.033263       0.024070  \n",
       "Source          0.177455        0.199688      -0.063260  \n",
       "Destination    -0.074896       -0.152161       0.072719  \n",
       "Total stops    -0.228036       -0.667549       0.023722  \n",
       "Price           0.074897        0.358638      -0.038484  \n",
       "Day             1.000000        0.188382       0.034461  \n",
       "Duration_hours  0.188382        1.000000      -0.079976  \n",
       "Duration_mins   0.034461       -0.079976       1.000000  "
      ]
     },
     "execution_count": 395,
     "metadata": {},
     "output_type": "execute_result"
    }
   ],
   "source": [
    "# Correlation\n",
    "df.corr()"
   ]
  },
  {
   "cell_type": "code",
   "execution_count": 396,
   "id": "0e5cd768",
   "metadata": {},
   "outputs": [
    {
     "data": {
      "text/plain": [
       "<AxesSubplot:>"
      ]
     },
     "execution_count": 396,
     "metadata": {},
     "output_type": "execute_result"
    },
    {
     "data": {
      "image/png": "[encoded data removed]",
      "text/plain": [
       "<Figure size 1440x1440 with 2 Axes>"
      ]
     },
     "metadata": {},
     "output_type": "display_data"
    }
   ],
   "source": [
    "plt.figure(figsize=(20,20))\n",
    "sns.heatmap(df.corr(),annot=True)"
   ]
  },
  {
   "cell_type": "code",
   "execution_count": 397,
   "id": "f3696890",
   "metadata": {},
   "outputs": [
    {
     "data": {
      "text/plain": [
       "Airline          -0.000690\n",
       "Source           -0.048290\n",
       "Destination      -0.203370\n",
       "Total stops       0.823386\n",
       "Price             2.577218\n",
       "Day               0.387743\n",
       "Duration_hours    1.369746\n",
       "Duration_mins     0.069887\n",
       "dtype: float64"
      ]
     },
     "execution_count": 397,
     "metadata": {},
     "output_type": "execute_result"
    }
   ],
   "source": [
    "df.skew()"
   ]
  },
  {
   "cell_type": "code",
   "execution_count": 398,
   "id": "e7babd5f",
   "metadata": {},
   "outputs": [
    {
     "data": {
      "image/png": "[encoded data removed]",
      "text/plain": [
       "<Figure size 1080x720 with 15 Axes>"
      ]
     },
     "metadata": {},
     "output_type": "display_data"
    }
   ],
   "source": [
    "# Outliers Checking\n",
    "df.plot(kind='box', subplots = True, layout=(5,3), figsize=(15,10));"
   ]
  },
  {
   "cell_type": "code",
   "execution_count": 399,
   "id": "418b00dd",
   "metadata": {},
   "outputs": [
    {
     "data": {
      "text/plain": [
       "(array([   0,    0,    0, ..., 1719, 1719, 1719], dtype=int64),\n",
       " array([0, 1, 2, ..., 5, 6, 7], dtype=int64))"
      ]
     },
     "execution_count": 399,
     "metadata": {},
     "output_type": "execute_result"
    }
   ],
   "source": [
    "# Considering the outlier removal\n",
    "from scipy.stats import zscore\n",
    "import numpy as np\n",
    "z=np.abs(zscore(df))\n",
    "threshold=3\n",
    "np.where(z<3)"
   ]
  },
  {
   "cell_type": "code",
   "execution_count": 400,
   "id": "17745ced",
   "metadata": {},
   "outputs": [
    {
     "data": {
      "text/html": [
       "<div>\n",
       "<style scoped>\n",
       "    .dataframe tbody tr th:only-of-type {\n",
       "        vertical-align: middle;\n",
       "    }\n",
       "\n",
       "    .dataframe tbody tr th {\n",
       "        vertical-align: top;\n",
       "    }\n",
       "\n",
       "    .dataframe thead th {\n",
       "        text-align: right;\n",
       "    }\n",
       "</style>\n",
       "<table border=\"1\" class=\"dataframe\">\n",
       "  <thead>\n",
       "    <tr style=\"text-align: right;\">\n",
       "      <th></th>\n",
       "      <th>Airline</th>\n",
       "      <th>Source</th>\n",
       "      <th>Destination</th>\n",
       "      <th>Total stops</th>\n",
       "      <th>Price</th>\n",
       "      <th>Day</th>\n",
       "      <th>Duration_hours</th>\n",
       "      <th>Duration_mins</th>\n",
       "    </tr>\n",
       "  </thead>\n",
       "  <tbody>\n",
       "    <tr>\n",
       "      <th>0</th>\n",
       "      <td>18</td>\n",
       "      <td>4</td>\n",
       "      <td>4</td>\n",
       "      <td>3</td>\n",
       "      <td>451</td>\n",
       "      <td>5</td>\n",
       "      <td>1</td>\n",
       "      <td>45</td>\n",
       "    </tr>\n",
       "    <tr>\n",
       "      <th>1</th>\n",
       "      <td>18</td>\n",
       "      <td>4</td>\n",
       "      <td>4</td>\n",
       "      <td>3</td>\n",
       "      <td>375</td>\n",
       "      <td>5</td>\n",
       "      <td>1</td>\n",
       "      <td>45</td>\n",
       "    </tr>\n",
       "    <tr>\n",
       "      <th>2</th>\n",
       "      <td>18</td>\n",
       "      <td>4</td>\n",
       "      <td>4</td>\n",
       "      <td>3</td>\n",
       "      <td>344</td>\n",
       "      <td>5</td>\n",
       "      <td>1</td>\n",
       "      <td>40</td>\n",
       "    </tr>\n",
       "    <tr>\n",
       "      <th>3</th>\n",
       "      <td>18</td>\n",
       "      <td>4</td>\n",
       "      <td>4</td>\n",
       "      <td>3</td>\n",
       "      <td>416</td>\n",
       "      <td>5</td>\n",
       "      <td>1</td>\n",
       "      <td>50</td>\n",
       "    </tr>\n",
       "    <tr>\n",
       "      <th>4</th>\n",
       "      <td>18</td>\n",
       "      <td>4</td>\n",
       "      <td>4</td>\n",
       "      <td>3</td>\n",
       "      <td>344</td>\n",
       "      <td>5</td>\n",
       "      <td>1</td>\n",
       "      <td>45</td>\n",
       "    </tr>\n",
       "    <tr>\n",
       "      <th>...</th>\n",
       "      <td>...</td>\n",
       "      <td>...</td>\n",
       "      <td>...</td>\n",
       "      <td>...</td>\n",
       "      <td>...</td>\n",
       "      <td>...</td>\n",
       "      <td>...</td>\n",
       "      <td>...</td>\n",
       "    </tr>\n",
       "    <tr>\n",
       "      <th>1711</th>\n",
       "      <td>35</td>\n",
       "      <td>2</td>\n",
       "      <td>0</td>\n",
       "      <td>1</td>\n",
       "      <td>1198</td>\n",
       "      <td>8</td>\n",
       "      <td>10</td>\n",
       "      <td>10</td>\n",
       "    </tr>\n",
       "    <tr>\n",
       "      <th>1712</th>\n",
       "      <td>20</td>\n",
       "      <td>2</td>\n",
       "      <td>0</td>\n",
       "      <td>1</td>\n",
       "      <td>1502</td>\n",
       "      <td>8</td>\n",
       "      <td>8</td>\n",
       "      <td>25</td>\n",
       "    </tr>\n",
       "    <tr>\n",
       "      <th>1713</th>\n",
       "      <td>17</td>\n",
       "      <td>2</td>\n",
       "      <td>0</td>\n",
       "      <td>0</td>\n",
       "      <td>1656</td>\n",
       "      <td>8</td>\n",
       "      <td>4</td>\n",
       "      <td>40</td>\n",
       "    </tr>\n",
       "    <tr>\n",
       "      <th>1715</th>\n",
       "      <td>20</td>\n",
       "      <td>2</td>\n",
       "      <td>0</td>\n",
       "      <td>1</td>\n",
       "      <td>1451</td>\n",
       "      <td>8</td>\n",
       "      <td>10</td>\n",
       "      <td>10</td>\n",
       "    </tr>\n",
       "    <tr>\n",
       "      <th>1719</th>\n",
       "      <td>30</td>\n",
       "      <td>2</td>\n",
       "      <td>0</td>\n",
       "      <td>0</td>\n",
       "      <td>1671</td>\n",
       "      <td>8</td>\n",
       "      <td>4</td>\n",
       "      <td>40</td>\n",
       "    </tr>\n",
       "  </tbody>\n",
       "</table>\n",
       "<p>1655 rows × 8 columns</p>\n",
       "</div>"
      ],
      "text/plain": [
       "      Airline  Source  Destination  Total stops  Price  Day  Duration_hours  \\\n",
       "0          18       4            4            3    451    5               1   \n",
       "1          18       4            4            3    375    5               1   \n",
       "2          18       4            4            3    344    5               1   \n",
       "3          18       4            4            3    416    5               1   \n",
       "4          18       4            4            3    344    5               1   \n",
       "...       ...     ...          ...          ...    ...  ...             ...   \n",
       "1711       35       2            0            1   1198    8              10   \n",
       "1712       20       2            0            1   1502    8               8   \n",
       "1713       17       2            0            0   1656    8               4   \n",
       "1715       20       2            0            1   1451    8              10   \n",
       "1719       30       2            0            0   1671    8               4   \n",
       "\n",
       "      Duration_mins  \n",
       "0                45  \n",
       "1                45  \n",
       "2                40  \n",
       "3                50  \n",
       "4                45  \n",
       "...             ...  \n",
       "1711             10  \n",
       "1712             25  \n",
       "1713             40  \n",
       "1715             10  \n",
       "1719             40  \n",
       "\n",
       "[1655 rows x 8 columns]"
      ]
     },
     "execution_count": 400,
     "metadata": {},
     "output_type": "execute_result"
    }
   ],
   "source": [
    "df_new_z=df[(z<3).all(axis=1)]\n",
    "df_new_z"
   ]
  },
  {
   "cell_type": "code",
   "execution_count": 257,
   "id": "3329d622",
   "metadata": {},
   "outputs": [
    {
     "data": {
      "text/plain": [
       "3.77906976744186"
      ]
     },
     "execution_count": 257,
     "metadata": {},
     "output_type": "execute_result"
    }
   ],
   "source": [
    "#Percentage loss of data:\n",
    "Data_loss=((1720 - 1655)/1720)*100\n",
    "Data_loss"
   ]
  },
  {
   "cell_type": "markdown",
   "id": "84cffa98",
   "metadata": {},
   "source": [
    "Data loss is less so we can remove outliers"
   ]
  },
  {
   "cell_type": "code",
   "execution_count": 258,
   "id": "cc3d140a",
   "metadata": {},
   "outputs": [],
   "source": [
    "df=df_new_z"
   ]
  },
  {
   "cell_type": "code",
   "execution_count": 401,
   "id": "d75c62ca",
   "metadata": {},
   "outputs": [],
   "source": [
    "X = df[['Airline', 'Source', 'Destination', 'Total stops',\n",
    "       'Day', 'Duration_hours', 'Duration_mins']]\n",
    "\n",
    "y = df['Price']"
   ]
  },
  {
   "cell_type": "code",
   "execution_count": 402,
   "id": "0c0f15cc",
   "metadata": {},
   "outputs": [],
   "source": [
    "from sklearn.model_selection import train_test_split, RandomizedSearchCV\n",
    "from sklearn.linear_model import LinearRegression, Ridge, Lasso\n",
    "from sklearn.preprocessing import StandardScaler, PolynomialFeatures\n",
    "from sklearn.pipeline import make_pipeline\n",
    "from sklearn.model_selection import cross_val_score, train_test_split, KFold, GridSearchCV\n",
    "from sklearn.ensemble import RandomForestRegressor, ExtraTreesRegressor\n",
    "from sklearn import metrics"
   ]
  },
  {
   "cell_type": "code",
   "execution_count": 403,
   "id": "714ac009",
   "metadata": {},
   "outputs": [
    {
     "data": {
      "text/plain": [
       "array([0.3267302 , 0.06506753, 0.06596841, 0.19682454, 0.10065942,\n",
       "       0.12810317, 0.11664673])"
      ]
     },
     "execution_count": 403,
     "metadata": {},
     "output_type": "execute_result"
    }
   ],
   "source": [
    "# getting feature importance to the target variable \"Price\".\n",
    "selection =ExtraTreesRegressor()\n",
    "selection.fit(X,y)\n",
    "selection.feature_importances_"
   ]
  },
  {
   "cell_type": "code",
   "execution_count": 404,
   "id": "1eeb8c59",
   "metadata": {},
   "outputs": [
    {
     "data": {
      "image/png": "[encoded data removed]",
      "text/plain": [
       "<Figure size 864x576 with 1 Axes>"
      ]
     },
     "metadata": {},
     "output_type": "display_data"
    }
   ],
   "source": [
    "# plotting graph of important features\n",
    "plt.figure(figsize = (12,8))\n",
    "feat_importances = pd.Series(selection.feature_importances_,index = X.columns)\n",
    "feat_importances.nlargest(20).plot(kind=\"barh\")\n",
    "plt.show()"
   ]
  },
  {
   "cell_type": "markdown",
   "id": "b24c89f5",
   "metadata": {},
   "source": [
    "## Model Building:"
   ]
  },
  {
   "cell_type": "code",
   "execution_count": 405,
   "id": "48f9cb80",
   "metadata": {},
   "outputs": [],
   "source": [
    "#Splitting the data 60% Train - 20% Val - 20% Test\n",
    "\n",
    "X_train_or, X_test, y_train_or, y_test = train_test_split(X, y, test_size=0.2)\n",
    "X_train, X_val, y_train, y_val = train_test_split(X_train_or, y_train_or, test_size=0.25)"
   ]
  },
  {
   "cell_type": "code",
   "execution_count": 406,
   "id": "554e4429",
   "metadata": {},
   "outputs": [],
   "source": [
    "# Defining a function to get metrics for val set\n",
    "def get_metrics(model):\n",
    "    print(f'Train score {model.score(X_train, y_train)}')\n",
    "    print(f'Val score {model.score(X_val, y_val)}')\n",
    "    print(\"MAE:\" , metrics.mean_absolute_error(y_val,model.predict(X_val)))\n",
    "    print(\"MSE:\" , metrics.mean_squared_error(y_val,model.predict(X_val)))\n",
    "    print(\"RMSE:\" , np.sqrt(metrics.mean_squared_error(y_val,model.predict(X_val))))"
   ]
  },
  {
   "cell_type": "code",
   "execution_count": 407,
   "id": "4338a561",
   "metadata": {},
   "outputs": [
    {
     "name": "stdout",
     "output_type": "stream",
     "text": [
      "Train score 0.1481074962451353\n",
      "Val score 0.15984723140780477\n",
      "MAE: 207.86758481019913\n",
      "MSE: 123036.8740750561\n",
      "RMSE: 350.7661244690771\n"
     ]
    }
   ],
   "source": [
    "#Linear Regression\n",
    "lr = LinearRegression()\n",
    "lr.fit(X_train, y_train)\n",
    "score = lr.score(X_val, y_val)\n",
    "get_metrics(lr)"
   ]
  },
  {
   "cell_type": "code",
   "execution_count": 408,
   "id": "fe6ad59f",
   "metadata": {},
   "outputs": [
    {
     "name": "stdout",
     "output_type": "stream",
     "text": [
      "--------------------\n",
      "Degree 1\n",
      "Train score 0.1481074962451353\n",
      "Val score 0.15984723140780488\n",
      "MAE: 207.86758481019913\n",
      "MSE: 123036.87407505607\n",
      "RMSE: 350.76612446907706\n",
      "--------------------\n",
      "Degree 2\n",
      "Train score 0.32321945957679454\n",
      "Val score 0.26594295507314736\n",
      "MAE: 185.99196830406794\n",
      "MSE: 107499.59718862965\n",
      "RMSE: 327.8713119329437\n",
      "--------------------\n",
      "Degree 3\n",
      "Train score 0.49450678297332684\n",
      "Val score -0.16287407297890488\n",
      "MAE: 202.73788381553138\n",
      "MSE: 170298.06510308778\n",
      "RMSE: 412.6718612930712\n",
      "--------------------\n",
      "Degree 4\n",
      "Train score 0.6929353034826442\n",
      "Val score -130.23698853290446\n",
      "MAE: 770.2670849761364\n",
      "MSE: 19219110.42341657\n",
      "RMSE: 4383.960586435121\n",
      "--------------------\n",
      "Degree 5\n",
      "Train score 0.7140395522427422\n",
      "Val score -606748.3901631037\n",
      "MAE: 43237.48747799494\n",
      "MSE: 88855921331.67241\n",
      "RMSE: 298087.1035983818\n"
     ]
    }
   ],
   "source": [
    "#Polynominal\n",
    "for degree in [1,2,3,4,5]:\n",
    "    poly = make_pipeline(PolynomialFeatures(degree), LinearRegression())\n",
    "    poly.fit(X_train, y_train)\n",
    "    print(\"-\"*20)\n",
    "    print(\"Degree\", degree)\n",
    "    get_metrics(poly)"
   ]
  },
  {
   "cell_type": "code",
   "execution_count": 409,
   "id": "d4ce4a31",
   "metadata": {},
   "outputs": [
    {
     "name": "stdout",
     "output_type": "stream",
     "text": [
      "Train score 0.14809074990259585\n",
      "Val score 0.16030349137007482\n",
      "MAE: 207.82028234252442\n",
      "MSE: 122970.05670371377\n",
      "RMSE: 350.67086663096745\n"
     ]
    }
   ],
   "source": [
    "#Lasso\n",
    "lasso_model = Lasso()\n",
    "lasso_model.fit(X_train, y_train)\n",
    "get_metrics(lasso_model)"
   ]
  },
  {
   "cell_type": "code",
   "execution_count": 410,
   "id": "fa508e98",
   "metadata": {},
   "outputs": [
    {
     "name": "stdout",
     "output_type": "stream",
     "text": [
      "Train score 0.1481074776586342\n",
      "Val score 0.15987067022243628\n",
      "MAE: 207.86941505210433\n",
      "MSE: 123033.44155826619\n",
      "RMSE: 350.7612315497056\n"
     ]
    }
   ],
   "source": [
    "#Ridge\n",
    "ridge_model = Ridge()\n",
    "ridge_model.fit(X_train, y_train)\n",
    "get_metrics(ridge_model)"
   ]
  },
  {
   "cell_type": "code",
   "execution_count": 411,
   "id": "40ce713b",
   "metadata": {},
   "outputs": [
    {
     "name": "stdout",
     "output_type": "stream",
     "text": [
      "Train score 0.9150739928377184\n",
      "Val score 0.6307989819847848\n",
      "MAE: 112.60738365002246\n",
      "MSE: 54067.951520337985\n",
      "RMSE: 232.52516319817514\n"
     ]
    }
   ],
   "source": [
    "#Random Forest\n",
    "rf = RandomForestRegressor()\n",
    "rf.fit(X_train,y_train)\n",
    "get_metrics(rf)"
   ]
  },
  {
   "cell_type": "code",
   "execution_count": 412,
   "id": "0b445c2d",
   "metadata": {},
   "outputs": [],
   "source": [
    "#Scaling\n",
    "scaler = StandardScaler()\n",
    "\n",
    "X_train_scaled = scaler.fit_transform(X_train.values)\n",
    "X_val_scaled = scaler.transform(X_val.values)\n",
    "X_test_scaled = scaler.transform(X_test.values)"
   ]
  },
  {
   "cell_type": "code",
   "execution_count": 413,
   "id": "d6b592a1",
   "metadata": {},
   "outputs": [
    {
     "name": "stdout",
     "output_type": "stream",
     "text": [
      "LR\n",
      "Train score 0.1481074962451353\n",
      "Val score 0.15984723140780466\n",
      "MAE: 207.86758481019916\n",
      "MSE: 123036.87407505611\n",
      "RMSE: 350.7661244690771\n",
      "--------------------------------------------------\n",
      "Polynomial - Degree 1\n",
      "Train score 0.11121893252370507\n",
      "Val score 0.10198062988281131\n",
      "MAE: 212.21924122758352\n",
      "MSE: 131511.19687817234\n",
      "RMSE: 362.6447254244467\n",
      "--------------------------------------------------\n",
      "Polynomial - Degree 2\n",
      "Train score -4.814359635660464\n",
      "Val score -3.483951887595782\n",
      "MAE: 663.4300586622415\n",
      "MSE: 656656.0801521561\n",
      "RMSE: 810.343186651283\n",
      "--------------------------------------------------\n",
      "Polynomial - Degree 3\n",
      "Train score -105.35497925286738\n",
      "Val score -70.10015092277256\n",
      "MAE: 2421.0767576286585\n",
      "MSE: 10412321.000216622\n",
      "RMSE: 3226.812823858338\n",
      "--------------------------------------------------\n",
      "Polynomial - Degree 4\n",
      "Train score -450928.5401879345\n",
      "Val score -302959.8725447113\n",
      "MAE: 149098.40088014843\n",
      "MSE: 44367358078.713875\n",
      "RMSE: 210635.6049643884\n",
      "--------------------------------------------------\n",
      "Polynomial - Degree 5\n",
      "Train score -4411160239.45633\n",
      "Val score -3904881255.3747106\n",
      "MAE: 15076107.75377164\n",
      "MSE: 571853597797077.2\n",
      "RMSE: 23913460.598522272\n",
      "--------------------------------------------------\n",
      "Lasso\n",
      "Train score 0.14807242252255892\n",
      "Val score 0.16027357229642825\n",
      "MAE: 207.74459249227374\n",
      "MSE: 122974.43822744887\n",
      "RMSE: 350.67711392026837\n",
      "--------------------------------------------------\n",
      "Ridge\n",
      "Train score 0.14810745170816153\n",
      "Val score 0.15982183880278789\n",
      "MAE: 207.87495566518928\n",
      "MSE: 123040.59271631124\n",
      "RMSE: 350.77142517073884\n",
      "--------------------------------------------------\n",
      "Random Forest\n",
      "Train score -4.68318562573569\n",
      "Val score -3.468993401923666\n",
      "MAE: 750.0009689922482\n",
      "MSE: 654465.4722213178\n",
      "RMSE: 808.9904030464872\n"
     ]
    }
   ],
   "source": [
    "# function to get metrics for scaled features\n",
    "def scaled_metrics(model):\n",
    "    print(f'Train score {model.score(X_train_scaled, y_train)}')\n",
    "    print(f'Val score {model.score(X_val_scaled, y_val)}')\n",
    "    print(\"MAE:\" , metrics.mean_absolute_error(y_val,model.predict(X_val_scaled)))\n",
    "    print(\"MSE:\" , metrics.mean_squared_error(y_val,model.predict(X_val_scaled)))\n",
    "    print(\"RMSE:\" , np.sqrt(metrics.mean_squared_error(y_val,model.predict(X_val_scaled))))\n",
    "\n",
    "    \n",
    "## Baseline: Linear Regression\n",
    "\n",
    "lr = LinearRegression()\n",
    "lr.fit(X_train_scaled, y_train)\n",
    "score = lr.score(X_val_scaled, y_val)\n",
    "print(\"LR\")\n",
    "scaled_metrics(lr)\n",
    "print(\"-\"*50)\n",
    "\n",
    "## Polynomial\n",
    "\n",
    "for degree in [1,2,3,4,5]:\n",
    "    poly = make_pipeline(PolynomialFeatures(degree), LinearRegression())\n",
    "    poly.fit(X_train, y_train)\n",
    "    print(\"Polynomial - Degree\", degree)\n",
    "    scaled_metrics(poly)\n",
    "    print(\"-\"*50)\n",
    "\n",
    "## Lasso\n",
    "\n",
    "lasso_model = Lasso()\n",
    "lasso_model.fit(X_train_scaled, y_train)\n",
    "print(\"Lasso\")\n",
    "scaled_metrics(lasso_model)\n",
    "print(\"-\"*50)\n",
    "\n",
    "## Ridge\n",
    "\n",
    "ridge_model = Ridge()\n",
    "ridge_model.fit(X_train_scaled, y_train)\n",
    "print(\"Ridge\")\n",
    "scaled_metrics(ridge_model)\n",
    "print(\"-\"*50)\n",
    "\n",
    "## Random Forest\n",
    "rf = RandomForestRegressor()\n",
    "rf.fit(X_train,y_train)\n",
    "print(\"Random Forest\")\n",
    "scaled_metrics(rf)"
   ]
  },
  {
   "cell_type": "markdown",
   "id": "bc7fd250",
   "metadata": {},
   "source": [
    "### We can see that the random forest model performed the best."
   ]
  },
  {
   "cell_type": "code",
   "execution_count": 414,
   "id": "b8d6cce3",
   "metadata": {},
   "outputs": [
    {
     "name": "stdout",
     "output_type": "stream",
     "text": [
      "Train score 0.9171258622353166\n",
      "Test score 0.6802193262621978\n",
      "MAE: 94.38040029197225\n",
      "MSE: 29475.092910008127\n",
      "RMSE: 171.68311771985074\n"
     ]
    }
   ],
   "source": [
    "# retraining the random forest model on train + val, and scoring on test\n",
    "\n",
    "X_train_val = pd.concat([X_train,X_val])\n",
    "y_train_val = pd.concat([y_train,y_val])\n",
    "\n",
    "rf = RandomForestRegressor()\n",
    "rf.fit(X_train_val,y_train_val)\n",
    "\n",
    "print(f'Train score {rf.score(X_train_val, y_train_val)}')\n",
    "print(f'Test score {rf.score(X_test, y_test)}')\n",
    "print(\"MAE:\" , metrics.mean_absolute_error(y_test,rf.predict(X_test)))\n",
    "print(\"MSE:\" , metrics.mean_squared_error(y_test,rf.predict(X_test)))\n",
    "print(\"RMSE:\" , np.sqrt(metrics.mean_squared_error(y_test,rf.predict(X_test))))"
   ]
  },
  {
   "cell_type": "code",
   "execution_count": 415,
   "id": "f7cef7c5",
   "metadata": {},
   "outputs": [],
   "source": [
    "y_train_val_pred = rf.predict(X_train_val)\n",
    "y_test_pred = rf.predict(X_test)"
   ]
  },
  {
   "cell_type": "code",
   "execution_count": 416,
   "id": "5d8fe51a",
   "metadata": {},
   "outputs": [
    {
     "data": {
      "image/png": "[encoded data removed]",
      "text/plain": [
       "<Figure size 432x288 with 1 Axes>"
      ]
     },
     "metadata": {},
     "output_type": "display_data"
    }
   ],
   "source": [
    "plt.scatter(y_test,y_test_pred,alpha =0.2,color=\"DarkBlue\")\n",
    "plt.title('Actual vs. Predicted Airline Prices')\n",
    "plt.xlabel('Predicted Airline Prices')\n",
    "plt.ylabel('Actual Airline Prices');"
   ]
  },
  {
   "cell_type": "markdown",
   "id": "317c9fef",
   "metadata": {},
   "source": [
    "### Hyperparameter Tuning"
   ]
  },
  {
   "cell_type": "code",
   "execution_count": 417,
   "id": "ebacc85a",
   "metadata": {},
   "outputs": [],
   "source": [
    "# randomized search CV\n",
    "\n",
    "n_estimators = [int(x) for x in np.linspace(start = 100, stop = 1200, num = 12)]\n",
    "max_features = ['auto', 'sqrt']\n",
    "max_depth = [int(x) for x in np.linspace(5, 30, num = 6)]\n",
    "min_samples_split = [2, 5, 10, 15, 100]\n",
    "min_samples_leaf = [1, 2, 5, 10]"
   ]
  },
  {
   "cell_type": "code",
   "execution_count": 418,
   "id": "f80c8558",
   "metadata": {},
   "outputs": [],
   "source": [
    "# create the random grid\n",
    "\n",
    "random_grid = {'n_estimators': n_estimators,\n",
    "               'max_features': max_features,\n",
    "               'max_depth': max_depth,\n",
    "               'min_samples_split': min_samples_split,\n",
    "               'min_samples_leaf': min_samples_leaf}"
   ]
  },
  {
   "cell_type": "code",
   "execution_count": 419,
   "id": "b07c1d8f",
   "metadata": {
    "scrolled": true
   },
   "outputs": [
    {
     "name": "stdout",
     "output_type": "stream",
     "text": [
      "Fitting 5 folds for each of 8 candidates, totalling 40 fits\n",
      "[CV] END max_depth=15, max_features=auto, min_samples_leaf=5, min_samples_split=15, n_estimators=1200; total time=   3.3s\n",
      "[CV] END max_depth=15, max_features=auto, min_samples_leaf=5, min_samples_split=15, n_estimators=1200; total time=   3.5s\n",
      "[CV] END max_depth=15, max_features=auto, min_samples_leaf=5, min_samples_split=15, n_estimators=1200; total time=   3.1s\n",
      "[CV] END max_depth=15, max_features=auto, min_samples_leaf=5, min_samples_split=15, n_estimators=1200; total time=   2.9s\n",
      "[CV] END max_depth=15, max_features=auto, min_samples_leaf=5, min_samples_split=15, n_estimators=1200; total time=   3.5s\n",
      "[CV] END max_depth=25, max_features=sqrt, min_samples_leaf=2, min_samples_split=10, n_estimators=200; total time=   0.3s\n",
      "[CV] END max_depth=25, max_features=sqrt, min_samples_leaf=2, min_samples_split=10, n_estimators=200; total time=   0.3s\n",
      "[CV] END max_depth=25, max_features=sqrt, min_samples_leaf=2, min_samples_split=10, n_estimators=200; total time=   0.3s\n",
      "[CV] END max_depth=25, max_features=sqrt, min_samples_leaf=2, min_samples_split=10, n_estimators=200; total time=   0.3s\n",
      "[CV] END max_depth=25, max_features=sqrt, min_samples_leaf=2, min_samples_split=10, n_estimators=200; total time=   0.3s\n",
      "[CV] END max_depth=10, max_features=sqrt, min_samples_leaf=2, min_samples_split=100, n_estimators=1000; total time=   2.0s\n",
      "[CV] END max_depth=10, max_features=sqrt, min_samples_leaf=2, min_samples_split=100, n_estimators=1000; total time=   1.8s\n",
      "[CV] END max_depth=10, max_features=sqrt, min_samples_leaf=2, min_samples_split=100, n_estimators=1000; total time=   2.0s\n",
      "[CV] END max_depth=10, max_features=sqrt, min_samples_leaf=2, min_samples_split=100, n_estimators=1000; total time=   2.5s\n",
      "[CV] END max_depth=10, max_features=sqrt, min_samples_leaf=2, min_samples_split=100, n_estimators=1000; total time=   1.8s\n",
      "[CV] END max_depth=30, max_features=sqrt, min_samples_leaf=5, min_samples_split=2, n_estimators=200; total time=   0.4s\n",
      "[CV] END max_depth=30, max_features=sqrt, min_samples_leaf=5, min_samples_split=2, n_estimators=200; total time=   0.3s\n",
      "[CV] END max_depth=30, max_features=sqrt, min_samples_leaf=5, min_samples_split=2, n_estimators=200; total time=   0.4s\n",
      "[CV] END max_depth=30, max_features=sqrt, min_samples_leaf=5, min_samples_split=2, n_estimators=200; total time=   0.5s\n",
      "[CV] END max_depth=30, max_features=sqrt, min_samples_leaf=5, min_samples_split=2, n_estimators=200; total time=   0.4s\n",
      "[CV] END max_depth=10, max_features=auto, min_samples_leaf=2, min_samples_split=5, n_estimators=700; total time=   1.9s\n",
      "[CV] END max_depth=10, max_features=auto, min_samples_leaf=2, min_samples_split=5, n_estimators=700; total time=   1.8s\n",
      "[CV] END max_depth=10, max_features=auto, min_samples_leaf=2, min_samples_split=5, n_estimators=700; total time=   2.2s\n",
      "[CV] END max_depth=10, max_features=auto, min_samples_leaf=2, min_samples_split=5, n_estimators=700; total time=   1.8s\n",
      "[CV] END max_depth=10, max_features=auto, min_samples_leaf=2, min_samples_split=5, n_estimators=700; total time=   1.7s\n",
      "[CV] END max_depth=5, max_features=sqrt, min_samples_leaf=2, min_samples_split=5, n_estimators=1200; total time=   2.0s\n",
      "[CV] END max_depth=5, max_features=sqrt, min_samples_leaf=2, min_samples_split=5, n_estimators=1200; total time=   1.9s\n",
      "[CV] END max_depth=5, max_features=sqrt, min_samples_leaf=2, min_samples_split=5, n_estimators=1200; total time=   1.9s\n",
      "[CV] END max_depth=5, max_features=sqrt, min_samples_leaf=2, min_samples_split=5, n_estimators=1200; total time=   2.1s\n",
      "[CV] END max_depth=5, max_features=sqrt, min_samples_leaf=2, min_samples_split=5, n_estimators=1200; total time=   2.3s\n",
      "[CV] END max_depth=10, max_features=sqrt, min_samples_leaf=10, min_samples_split=100, n_estimators=300; total time=   0.6s\n",
      "[CV] END max_depth=10, max_features=sqrt, min_samples_leaf=10, min_samples_split=100, n_estimators=300; total time=   0.5s\n",
      "[CV] END max_depth=10, max_features=sqrt, min_samples_leaf=10, min_samples_split=100, n_estimators=300; total time=   0.5s\n",
      "[CV] END max_depth=10, max_features=sqrt, min_samples_leaf=10, min_samples_split=100, n_estimators=300; total time=   0.5s\n",
      "[CV] END max_depth=10, max_features=sqrt, min_samples_leaf=10, min_samples_split=100, n_estimators=300; total time=   0.5s\n",
      "[CV] END max_depth=20, max_features=auto, min_samples_leaf=1, min_samples_split=15, n_estimators=700; total time=   2.0s\n",
      "[CV] END max_depth=20, max_features=auto, min_samples_leaf=1, min_samples_split=15, n_estimators=700; total time=   1.9s\n",
      "[CV] END max_depth=20, max_features=auto, min_samples_leaf=1, min_samples_split=15, n_estimators=700; total time=   2.0s\n",
      "[CV] END max_depth=20, max_features=auto, min_samples_leaf=1, min_samples_split=15, n_estimators=700; total time=   2.1s\n",
      "[CV] END max_depth=20, max_features=auto, min_samples_leaf=1, min_samples_split=15, n_estimators=700; total time=   2.0s\n"
     ]
    },
    {
     "data": {
      "text/plain": [
       "RandomizedSearchCV(cv=5, estimator=RandomForestRegressor(), n_iter=8, n_jobs=1,\n",
       "                   param_distributions={'max_depth': [5, 10, 15, 20, 25, 30],\n",
       "                                        'max_features': ['auto', 'sqrt'],\n",
       "                                        'min_samples_leaf': [1, 2, 5, 10],\n",
       "                                        'min_samples_split': [2, 5, 10, 15,\n",
       "                                                              100],\n",
       "                                        'n_estimators': [100, 200, 300, 400,\n",
       "                                                         500, 600, 700, 800,\n",
       "                                                         900, 1000, 1100,\n",
       "                                                         1200]},\n",
       "                   scoring='neg_mean_squared_error', verbose=2)"
      ]
     },
     "execution_count": 419,
     "metadata": {},
     "output_type": "execute_result"
    }
   ],
   "source": [
    "rf_random = RandomizedSearchCV(estimator = rf, param_distributions = random_grid,scoring='neg_mean_squared_error', n_iter = 8, cv = 5, verbose=2, n_jobs = 1)\n",
    "rf_random.fit(X_train_val,y_train_val)"
   ]
  },
  {
   "cell_type": "code",
   "execution_count": 420,
   "id": "45083fd0",
   "metadata": {},
   "outputs": [
    {
     "data": {
      "text/plain": [
       "{'n_estimators': 700,\n",
       " 'min_samples_split': 5,\n",
       " 'min_samples_leaf': 2,\n",
       " 'max_features': 'auto',\n",
       " 'max_depth': 10}"
      ]
     },
     "execution_count": 420,
     "metadata": {},
     "output_type": "execute_result"
    }
   ],
   "source": [
    "rf_random.best_params_"
   ]
  },
  {
   "cell_type": "code",
   "execution_count": 421,
   "id": "e8522fa2",
   "metadata": {},
   "outputs": [],
   "source": [
    "prediction = rf_random.predict(X_test)\n"
   ]
  },
  {
   "cell_type": "code",
   "execution_count": 422,
   "id": "dfb96efe",
   "metadata": {},
   "outputs": [
    {
     "data": {
      "image/png": "[encoded data removed]",
      "text/plain": [
       "<Figure size 432x288 with 1 Axes>"
      ]
     },
     "metadata": {},
     "output_type": "display_data"
    }
   ],
   "source": [
    "plt.scatter(y_test,prediction,alpha =0.2,color=\"DarkBlue\")\n",
    "plt.title('Actual vs. Predicted Airline Prices')\n",
    "plt.xlabel('Predicted Airline Prices')\n",
    "plt.ylabel('Actual Airline Prices');"
   ]
  },
  {
   "cell_type": "code",
   "execution_count": 423,
   "id": "f0864cd8",
   "metadata": {},
   "outputs": [
    {
     "name": "stdout",
     "output_type": "stream",
     "text": [
      "MAE: 98.15842331298887\n",
      "MSE: 30470.054629946993\n",
      "RMSE: 174.55673756674932\n"
     ]
    }
   ],
   "source": [
    "print(\"MAE:\" , metrics.mean_absolute_error(y_test,prediction))\n",
    "print(\"MSE:\" , metrics.mean_squared_error(y_test,prediction))\n",
    "print(\"RMSE:\" , np.sqrt(metrics.mean_squared_error(y_test,prediction)))"
   ]
  },
  {
   "cell_type": "code",
   "execution_count": 424,
   "id": "e749ba2d",
   "metadata": {},
   "outputs": [
    {
     "data": {
      "text/html": [
       "<div>\n",
       "<style scoped>\n",
       "    .dataframe tbody tr th:only-of-type {\n",
       "        vertical-align: middle;\n",
       "    }\n",
       "\n",
       "    .dataframe tbody tr th {\n",
       "        vertical-align: top;\n",
       "    }\n",
       "\n",
       "    .dataframe thead th {\n",
       "        text-align: right;\n",
       "    }\n",
       "</style>\n",
       "<table border=\"1\" class=\"dataframe\">\n",
       "  <thead>\n",
       "    <tr style=\"text-align: right;\">\n",
       "      <th></th>\n",
       "      <th>Predicted Price</th>\n",
       "      <th>Actual Price</th>\n",
       "    </tr>\n",
       "  </thead>\n",
       "  <tbody>\n",
       "    <tr>\n",
       "      <th>0</th>\n",
       "      <td>437.210000</td>\n",
       "      <td>344</td>\n",
       "    </tr>\n",
       "    <tr>\n",
       "      <th>1</th>\n",
       "      <td>435.390083</td>\n",
       "      <td>475</td>\n",
       "    </tr>\n",
       "    <tr>\n",
       "      <th>2</th>\n",
       "      <td>455.840000</td>\n",
       "      <td>410</td>\n",
       "    </tr>\n",
       "    <tr>\n",
       "      <th>3</th>\n",
       "      <td>1400.370000</td>\n",
       "      <td>443</td>\n",
       "    </tr>\n",
       "    <tr>\n",
       "      <th>4</th>\n",
       "      <td>1245.050000</td>\n",
       "      <td>1445</td>\n",
       "    </tr>\n",
       "    <tr>\n",
       "      <th>...</th>\n",
       "      <td>...</td>\n",
       "      <td>...</td>\n",
       "    </tr>\n",
       "    <tr>\n",
       "      <th>339</th>\n",
       "      <td>487.985079</td>\n",
       "      <td>527</td>\n",
       "    </tr>\n",
       "    <tr>\n",
       "      <th>340</th>\n",
       "      <td>733.443333</td>\n",
       "      <td>1741</td>\n",
       "    </tr>\n",
       "    <tr>\n",
       "      <th>341</th>\n",
       "      <td>566.526904</td>\n",
       "      <td>434</td>\n",
       "    </tr>\n",
       "    <tr>\n",
       "      <th>342</th>\n",
       "      <td>564.270000</td>\n",
       "      <td>529</td>\n",
       "    </tr>\n",
       "    <tr>\n",
       "      <th>343</th>\n",
       "      <td>392.280000</td>\n",
       "      <td>402</td>\n",
       "    </tr>\n",
       "  </tbody>\n",
       "</table>\n",
       "<p>344 rows × 2 columns</p>\n",
       "</div>"
      ],
      "text/plain": [
       "     Predicted Price  Actual Price\n",
       "0         437.210000           344\n",
       "1         435.390083           475\n",
       "2         455.840000           410\n",
       "3        1400.370000           443\n",
       "4        1245.050000          1445\n",
       "..               ...           ...\n",
       "339       487.985079           527\n",
       "340       733.443333          1741\n",
       "341       566.526904           434\n",
       "342       564.270000           529\n",
       "343       392.280000           402\n",
       "\n",
       "[344 rows x 2 columns]"
      ]
     },
     "execution_count": 424,
     "metadata": {},
     "output_type": "execute_result"
    }
   ],
   "source": [
    "test_df = pd.DataFrame({\n",
    "    \"Predicted Price\" : rf.predict(X_test),\n",
    "    \"Actual Price\" : y_test,\n",
    "}).reset_index(drop = True)\n",
    "\n",
    "test_df"
   ]
  },
  {
   "cell_type": "code",
   "execution_count": 425,
   "id": "e44d981b",
   "metadata": {},
   "outputs": [],
   "source": [
    "# saving the model\n",
    "import pickle as pkl\n",
    "file = open('rf_flightprice_prediction.pkl', 'wb')\n",
    "pkl.dump(rf, file)"
   ]
  },
  {
   "cell_type": "code",
   "execution_count": 426,
   "id": "87d10fae",
   "metadata": {},
   "outputs": [],
   "source": [
    "# open the model\n",
    "model = open('rf_flight_prediction.pkl','rb')\n",
    "rf_flight_prediction = pkl.load(model)"
   ]
  },
  {
   "cell_type": "code",
   "execution_count": 427,
   "id": "541954b0",
   "metadata": {},
   "outputs": [
    {
     "name": "stdout",
     "output_type": "stream",
     "text": [
      "R2 score 0.65587020820137\n",
      "MAE: 62.33693311888358\n",
      "MSE: 31719.42027579546\n",
      "RMSE: 178.09946736527726\n"
     ]
    }
   ],
   "source": [
    "print(f'R2 score {metrics.r2_score(y_test,rf_flight_prediction.predict(X_test))}')\n",
    "print(\"MAE:\" , metrics.mean_absolute_error(y_test,rf_flight_prediction.predict(X_test)))\n",
    "print(\"MSE:\" , metrics.mean_squared_error(y_test,rf_flight_prediction.predict(X_test)))\n",
    "print(\"RMSE:\" , np.sqrt(metrics.mean_squared_error(y_test,rf_flight_prediction.predict(X_test))))"
   ]
  },
  {
   "cell_type": "markdown",
   "id": "6653eed6",
   "metadata": {},
   "source": [
    "## The final model is able to predict flight ticket prices within around = $62.33"
   ]
  },
  {
   "cell_type": "code",
   "execution_count": null,
   "id": "a2d62609",
   "metadata": {},
   "outputs": [],
   "source": []
  },
  {
   "cell_type": "code",
   "execution_count": null,
   "id": "0d3047d4",
   "metadata": {},
   "outputs": [],
   "source": []
  }
 ],
 "metadata": {
  "kernelspec": {
   "display_name": "Python 3",
   "language": "python",
   "name": "python3"
  },
  "language_info": {
   "codemirror_mode": {
    "name": "ipython",
    "version": 3
   },
   "file_extension": ".py",
   "mimetype": "text/x-python",
   "name": "python",
   "nbconvert_exporter": "python",
   "pygments_lexer": "ipython3",
   "version": "3.8.8"
  }
 },
 "nbformat": 4,
 "nbformat_minor": 5
}
